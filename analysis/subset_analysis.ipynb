{
 "cells": [
  {
   "cell_type": "code",
   "execution_count": null,
   "metadata": {},
   "outputs": [],
   "source": [
    "import os\n",
    "import re\n",
    "import sys\n",
    "import glob\n",
    "import pandas as pd\n",
    "import numpy as np\n",
    "import seaborn as sns\n",
    "from scipy import stats\n",
    "import statsmodels.api as sm\n",
    "import statsmodels.formula.api as smf\n",
    "import statsmodels.stats.multicomp as multcomp\n",
    "import matplotlib.pyplot as plt\n",
    "\n",
    "\n",
    "from importlib import reload\n",
    "import utils # in this directory\n",
    "\n",
    "%matplotlib inline"
   ]
  },
  {
   "cell_type": "code",
   "execution_count": null,
   "metadata": {},
   "outputs": [],
   "source": [
    "reload(utils) # in case changes were made to utils "
   ]
  },
  {
   "cell_type": "code",
   "execution_count": null,
   "metadata": {},
   "outputs": [],
   "source": [
    "outerdir = '../data/icse-seet/cs3114/fall2018/p*'\n",
    "mutation_csvs = glob.glob('{outerdir}/*/pitReports/mutations.csv'.format(outerdir=outerdir))\n",
    "webcat_path = os.path.join('/home/ayaankazerouni/Developer/sensordata/data/fall-2018/submissions.csv')"
   ]
  },
  {
   "cell_type": "code",
   "execution_count": null,
   "metadata": {},
   "outputs": [],
   "source": [
    "pit_mutations = []\n",
    "columns=['className', 'fullQualifiedClassName', 'mutator', 'methodName', \n",
    "         'lineNumber', 'killed', 'killingTest']\n",
    "for datafile in mutation_csvs:\n",
    "    try:\n",
    "        username = os.path.dirname(os.path.dirname(datafile))\n",
    "        assignment = 'Project {}'.format(os.path.basename(os.path.dirname(username))[1])\n",
    "        username = os.path.basename(username)\n",
    "        userdata = pd.read_csv(datafile, names=columns)\n",
    "        userdata['userName'] = username\n",
    "        userdata['assignment'] = assignment\n",
    "        pit_mutations.append(userdata)\n",
    "        del userdata\n",
    "    except pd.errors.EmptyDataError:\n",
    "        pass\n",
    "pit_mutations = pd.concat(pit_mutations, sort=False)"
   ]
  },
  {
   "cell_type": "code",
   "execution_count": null,
   "metadata": {},
   "outputs": [],
   "source": [
    "submissions = utils.getsubmissions(webcat_path=webcat_path, users=pit_mutations.userName.unique()) \\\n",
    "    .reset_index()\n",
    "submissions.loc[:, 'assignment'] = submissions['assignment'] \\\n",
    "    .apply(lambda a: re.search(r'Project \\d', a).group())\n",
    "submissions = submissions.set_index(['userName', 'assignment'])\n",
    "mutators = utils.get_mutator_specific_data(pit_mutations=pit_mutations, submissions=submissions)\n",
    "coverage = utils.all_mutator_data(mutators, 'cov')\n",
    "mutant_counts = utils.all_mutator_data(mutators, 'num')\n",
    "# drop projects that are all NaN\n",
    "coverage = coverage.loc[~coverage.isna().all(axis=1)] \n",
    "mutant_counts = mutant_counts.loc[~mutant_counts.isna().all(axis=1)]\n",
    "del pit_mutations # no need to hold this in memory anymore "
   ]
  },
  {
   "cell_type": "code",
   "execution_count": null,
   "metadata": {},
   "outputs": [],
   "source": [
    "full = utils.get_data_for_subset(mutators, submissions=submissions, subset=utils.pit_full)\n",
    "full.head()"
   ]
  },
  {
   "cell_type": "code",
   "execution_count": null,
   "metadata": {},
   "outputs": [],
   "source": [
    "mutant_counts[utils.pit_deletion].divide(mutant_counts[utils.pit_deletion].sum(axis=1), axis=0).median()"
   ]
  },
  {
   "cell_type": "code",
   "execution_count": null,
   "metadata": {},
   "outputs": [],
   "source": [
    "def forward_selection(data, response):\n",
    "    \"\"\"Linear model designed by forward selection.\n",
    "    Credit: https://planspace.org/20150423-forward_selection_with_statsmodels/\n",
    "    \n",
    "    Args:\n",
    "        data (pd.DataFrame): All possible predictors and response\n",
    "        response (str): Name of response column in `data`\n",
    "        candidates (list): Candidate features\n",
    "\n",
    "    Returns:\n",
    "        model: an \"optimal\" fitted statsmodels linear model\n",
    "               with an intercept\n",
    "               selected by forward selection\n",
    "               evaluated by Bayesian Information Criterion (BIC)\n",
    "    \"\"\"\n",
    "    # add features in order of the specified sort_criteria\n",
    "    candidates = list(data.columns)\n",
    "    candidates.remove(response)\n",
    "    remaining = candidates.copy() # keep candidates intact to measure savings\n",
    "    selected = []\n",
    "    maxint = sys.maxsize\n",
    "    current_score, best_new_score = maxint, maxint\n",
    "    \n",
    "    original_num = utils.get_data_for_subset(mutators, submissions=submissions, subset=candidates) \\\n",
    "        ['num'].sum()\n",
    "    \n",
    "    while remaining and current_score == best_new_score:\n",
    "        scores_with_candidates = []\n",
    "        for candidate in remaining:\n",
    "            features = selected + [candidate]\n",
    "            formula = '{} ~ {} + 1'.format(response, ' + '.join(features))\n",
    "            \n",
    "            model = smf.ols(formula, data).fit()\n",
    "            bic = model.bic\n",
    "            r_squared = model.rsquared_adj\n",
    "            scores_with_candidates.append((bic, candidate, r_squared))\n",
    "            \n",
    "        scores_with_candidates.sort()\n",
    "        best_new_score, best_candidate, r_squared = scores_with_candidates[0]\n",
    "        if current_score > best_new_score:\n",
    "            remaining.remove(best_candidate)\n",
    "            selected.append(best_candidate)\n",
    "            add_num = utils.get_data_for_subset(mutators, submissions=submissions, \n",
    "                                                subset=selected)['num'].sum()\n",
    "            print('Add {}, {:.2%} of FULL mutants. R^2 = {:.2%}'.format(best_candidate, \n",
    "                                                                           add_num / full['num'].sum(), \n",
    "                                                                           r_squared))\n",
    "            current_score = best_new_score\n",
    "\n",
    "    formula = '{} ~ {} + 1'.format(response, ' + '.join(selected))\n",
    "    print('Selected {} / {} mutators'.format(len(selected), len(candidates)))\n",
    "    \n",
    "    model = smf.ols(formula, data).fit()\n",
    "    return model, selected, add_num"
   ]
  },
  {
   "cell_type": "code",
   "execution_count": null,
   "metadata": {
    "scrolled": false
   },
   "outputs": [],
   "source": [
    "depvar = 'cov'\n",
    "response = full[depvar]\n",
    "print('Candidate operators: {}'.format(utils.pit_deletion))\n",
    "d = coverage[utils.pit_deletion] \\\n",
    "        .merge(response, right_index=True, left_index=True) \\\n",
    "        .dropna(how='any')\n",
    "model, subset, num = forward_selection(d, depvar)\n",
    "print('R^2: {:.2%}'.format(model.rsquared_adj), subset)\n",
    "model.summary()"
   ]
  },
  {
   "cell_type": "code",
   "execution_count": null,
   "metadata": {
    "scrolled": true
   },
   "outputs": [],
   "source": [
    "depvar = 'cov'\n",
    "response = full[depvar]\n",
    "print('Candidate operators: {}'.format(utils.pit_sufficient))\n",
    "d = coverage[utils.pit_sufficient] \\\n",
    "        .merge(response, right_index=True, left_index=True) \\\n",
    "        .dropna(how='any')\n",
    "model, subset, num = forward_selection(d, depvar)\n",
    "print('R^2: {:.2%}'.format(model.rsquared_adj), subset)\n",
    "model.summary()"
   ]
  },
  {
   "cell_type": "code",
   "execution_count": null,
   "metadata": {
    "scrolled": true
   },
   "outputs": [],
   "source": [
    "depvar = 'cov'\n",
    "response = full[depvar]\n",
    "print('Candidate operators: {}'.format(utils.pit_full))\n",
    "d = coverage[utils.pit_full] \\\n",
    "        .merge(response, right_index=True, left_index=True) \\\n",
    "        .dropna(how='any')\n",
    "model, subset, num = forward_selection(d, depvar)\n",
    "print('R^2: {:.2%}'.format(model.rsquared_adj), subset)\n",
    "model.summary()"
   ]
  },
  {
   "cell_type": "code",
   "execution_count": null,
   "metadata": {},
   "outputs": [],
   "source": [
    "# Display summary infromation about arbitrary subsets\n",
    "def incsubset_info(subset, name, depvar, runningtime_path=None, outfile=None):\n",
    "    model = smf.ols('{} ~ {} + 1'.format(depvar, ' + '.join(subset)), data=d).fit()\n",
    "    df = utils.get_data_for_subset(mutators, subset=subset, submissions=submissions)\n",
    "    df['mpl'] = df['mpl'] * 1000\n",
    "    df = df.merge(right=joined['full_cov'], right_index=True, left_index=True)\n",
    "    print('Subset = ', subset)\n",
    "    mpl_saving_del = (df['mpl'] / (joined['deletion_mpl'] * 1000)).mean()\n",
    "    rt_saving_del = (df['runningtime'] / (joined['deletion_runningtime'])).mean()\n",
    "    mpl_saving_full = (df['mpl'] / (joined['full_mpl'] * 1000)).mean()\n",
    "    print('MPL time = {:.2f}'.format(df['mpl'].mean()))\n",
    "    print('\\t{:.2%} of del, {:.2%} of full'.format(mpl_saving_del, mpl_saving_full))\n",
    "    if runningtime_path is not None:\n",
    "        df['runningtime'] = utils.get_running_time(resultfile=runningtime_path)\n",
    "        rt_saving_full = (df['runningtime'] / (joined['full_runningtime'])).mean()\n",
    "        print('Running time = {:.2f}'.format(df['runningtime'].mean()))\n",
    "        print('\\t{:.2%} of del, {:.2%} of full'.format(rt_saving_del, rt_saving_full))\n",
    "\n",
    "    ax = sns.regplot(x='cov', y='full_cov', data=df)\n",
    "    ax.set(xlabel='Mutation Coverage Under {}'.format(name), \n",
    "           ylabel='Mutation Coverage Under the Full PIT Set',\n",
    "           title='$R^2 = {:.2f}$'.format(model.rsquared_adj))\n",
    "    sns.despine()\n",
    "    if outfile:\n",
    "        plt.tight_layout()\n",
    "        ax.get_figure().savefig(outfile)"
   ]
  },
  {
   "cell_type": "code",
   "execution_count": null,
   "metadata": {},
   "outputs": [],
   "source": [
    "def concat_incsubset_data(subsetlist):\n",
    "    prev = None\n",
    "    for i in range(1, len(subsetlist) + 1):\n",
    "        subset_data = utils.get_data_for_subset(mutators, subset=subsetlist[:i], submissions=submissions)\n",
    "        subset_data = subset_data[['cov', 'mpl']]\n",
    "        subset_data['mpl'] = subset_data['mpl']\n",
    "        subset_data['subset'] = 'Subset {}'.format('I' * i)\n",
    "        if prev is None:\n",
    "            prev = subset_data\n",
    "        else:\n",
    "            prev = pd.concat([prev, subset_data])\n",
    "    return prev"
   ]
  },
  {
   "cell_type": "code",
   "execution_count": null,
   "metadata": {},
   "outputs": [],
   "source": [
    "# Prepare scatterplots\n",
    "mpl = utils.factorisedsubsets(df=joined, dv='mpl')\n",
    "cov = utils.factorisedsubsets(df=joined, dv='cov')\n",
    "rt = utils.factorisedsubsets(df=joined, dv='runningtime')\n",
    "df = mpl.reset_index() \\\n",
    "        .merge(right=cov.reset_index(), on=['userName', 'subset'],\n",
    "               right_index=True, left_index=True)\n",
    "\n",
    "# change this line to filter in/out specific \"main subsets\"\n",
    "df = df[df['subset'].isin(['Deletion', 'Sufficient', 'Full'])]\n",
    "\n",
    "# change this line to toggle the subsets found by forward selection  \n",
    "# df = pd.concat([df, concat_incsubset_data(subset)], sort=False)\n",
    "\n",
    "# subsets have the same colours/markers across scatterplots\n",
    "cp = sns.color_palette()\n",
    "subset_palette = {'Deletion': cp[0],\n",
    "                  'Sufficient': cp[1],\n",
    "                  'Full': cp[2],\n",
    "                  'Subset I': cp[3],\n",
    "                  'Subset II': cp[4],\n",
    "                  'Subset III': cp[8]\n",
    "}\n",
    "subset_markers = {'Deletion': 'o',\n",
    "                  'Sufficient': 'X',\n",
    "                  'Full': 's',\n",
    "                  'Subset I': 'P',\n",
    "                  'Subset II': 'D',\n",
    "                  'Subset III': '^' \n",
    "}\n",
    "\n",
    "df['subset'] = pd.Categorical(df['subset'], ['Deletion', \n",
    "#                                              'Subset I',\n",
    "                                             'Sufficient',\n",
    "#                                              'Subset II',\n",
    "                                             'Full',])\n",
    "#                                              'Subset III'])\n",
    "\n",
    "df['mpl'] = df['mpl'] * 1000\n",
    "ax = sns.scatterplot(x='mpl', y='cov', style='subset', s=50, hue='subset', \n",
    "                     data=df, markers=subset_markers, palette=subset_palette)\n",
    "ax.set(xlabel='# Mutants per KSLoC', ylabel='Mutation Coverage')\n",
    "handles, labels = ax.get_legend_handles_labels()\n",
    "ax.legend(handles=handles[1:], labels=labels[1:], loc='lower center', ncol=4, bbox_to_anchor=(0.5, 1))\n",
    "sns.despine()\n",
    "plt.tight_layout()\n",
    "# ax.get_figure().savefig('/home/ayaankazerouni/Desktop/main-subsets.eps')"
   ]
  },
  {
   "cell_type": "code",
   "execution_count": null,
   "metadata": {},
   "outputs": [],
   "source": [
    "running_time = utils.get_running_time(resultfile='../data/icse-seet/cs3114/fall2016/p2/mutation-results.ndjson')"
   ]
  }
 ],
 "metadata": {
  "kernelspec": {
   "display_name": "Python 3",
   "language": "python",
   "name": "python3"
  },
  "language_info": {
   "codemirror_mode": {
    "name": "ipython",
    "version": 3
   },
   "file_extension": ".py",
   "mimetype": "text/x-python",
   "name": "python",
   "nbconvert_exporter": "python",
   "pygments_lexer": "ipython3",
   "version": "3.6.8"
  },
  "toc": {
   "base_numbering": 1,
   "nav_menu": {},
   "number_sections": false,
   "sideBar": true,
   "skip_h1_title": true,
   "title_cell": "Table of Contents",
   "title_sidebar": "Contents",
   "toc_cell": false,
   "toc_position": {},
   "toc_section_display": true,
   "toc_window_display": false
  }
 },
 "nbformat": 4,
 "nbformat_minor": 2
}
