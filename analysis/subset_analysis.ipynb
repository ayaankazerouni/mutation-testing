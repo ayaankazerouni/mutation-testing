{
 "cells": [
  {
   "cell_type": "code",
   "execution_count": null,
   "metadata": {},
   "outputs": [],
   "source": [
    "import re\n",
    "import sys\n",
    "import pandas as pd\n",
    "import numpy as np\n",
    "import seaborn as sns\n",
    "from scipy import stats\n",
    "import statsmodels.api as sm\n",
    "import statsmodels.formula.api as smf\n",
    "import statsmodels.stats.multicomp as multcomp\n",
    "import matplotlib.pyplot as plt\n",
    "\n",
    "\n",
    "from importlib import reload\n",
    "import utils # in this directory\n",
    "\n",
    "%matplotlib inline"
   ]
  },
  {
   "cell_type": "code",
   "execution_count": null,
   "metadata": {},
   "outputs": [],
   "source": [
    "reload(utils) # in case changes were made to utils "
   ]
  },
  {
   "cell_type": "code",
   "execution_count": null,
   "metadata": {},
   "outputs": [],
   "source": [
    "pit_mutations = pd.read_csv(utils.pit_mutations_path)\n",
    "submissions = utils.getsubmissions(webcat_path=utils.webcat_path, users=pit_mutations.userName.unique(),\n",
    "                                   assignments=['Project 2'])\n",
    "mutators = utils.get_mutator_specific_data(pit_mutations=pit_mutations, submissions=submissions)\n",
    "coverage = utils.all_mutator_data(mutators, 'cov')\n",
    "survival = utils.all_mutator_data(mutators, 'surv')\n",
    "agg_mutators = mutators.groupby('mutator').agg(['mean', 'std'])\n",
    "joined = utils.get_main_subset_data(mutators, submissions=submissions)\n",
    "del pit_mutations # I dub thee memory efficient"
   ]
  },
  {
   "cell_type": "code",
   "execution_count": null,
   "metadata": {},
   "outputs": [],
   "source": [
    "def forward_selection(data, response):\n",
    "    \"\"\"Linear model designed by forward selection.\n",
    "    Credit: https://planspace.org/20150423-forward_selection_with_statsmodels/\n",
    "    \n",
    "    Args:\n",
    "        data (pd.DataFrame): All possible predictors and response\n",
    "        response (str): Name of response column in `data`\n",
    "        candidates (list): Candidate features\n",
    "\n",
    "    Returns:\n",
    "        model: an \"optimal\" fitted statsmodels linear model\n",
    "               with an intercept\n",
    "               selected by forward selection\n",
    "               evaluated by adjusted R-squared\n",
    "    \"\"\"\n",
    "    # add features in order of the specified sort_criteria\n",
    "    candidates = list(data.columns)\n",
    "    candidates.remove(response)\n",
    "    remaining = candidates.copy() # keep candidates intact to measure savings\n",
    "    selected = []\n",
    "    maxint = sys.maxsize\n",
    "    current_score, best_new_score = maxint, maxint\n",
    "    while remaining and current_score == best_new_score:\n",
    "        scores_with_candidates = []\n",
    "        for candidate in remaining:\n",
    "            features = selected + [candidate]\n",
    "            formula = '{} ~ {} + 1'.format(response, ' + '.join(features))\n",
    "            \n",
    "            aic = smf.ols(formula, data).fit().bic\n",
    "            scores_with_candidates.append((aic, candidate))\n",
    "            \n",
    "        scores_with_candidates.sort()\n",
    "        best_new_score, best_candidate = scores_with_candidates[0]\n",
    "        if current_score > best_new_score:\n",
    "            remaining.remove(best_candidate)\n",
    "            selected.append(best_candidate)\n",
    "            current_score = best_new_score\n",
    "\n",
    "    formula = '{} ~ {} + 1'.format(response, ' + '.join(selected))\n",
    "    print('Selected {} / {} mutators'.format(len(selected), len(candidates)))\n",
    "    \n",
    "    selected_num = utils.get_data_for_subset(mutators, submissions=submissions, subset=selected)['num'].sum()\n",
    "    original_num = utils.get_data_for_subset(mutators, submissions=submissions, subset=candidates)['num'].sum()\n",
    "    print('{:.2%} of initial mutants'.format(selected_num / original_num))\n",
    "    \n",
    "    model = smf.ols(formula, data).fit()\n",
    "    return model, selected"
   ]
  },
  {
   "cell_type": "code",
   "execution_count": null,
   "metadata": {},
   "outputs": [],
   "source": [
    "depvar = 'full_cov'\n",
    "response = joined[depvar]\n",
    "d = coverage[utils.pit_deletion] \\\n",
    "        .merge(response, right_index=True, left_index=True) \\\n",
    "        .fillna(0)\n",
    "model, subset = forward_selection(d, depvar)\n",
    "print('{:.2f}'.format(model.rsquared_adj), subset)"
   ]
  },
  {
   "cell_type": "code",
   "execution_count": null,
   "metadata": {},
   "outputs": [],
   "source": [
    "smf.ols('{} ~ {} + 1'.format(depvar, ' + '.join(subset[:3])), data=d).fit().summary()"
   ]
  },
  {
   "cell_type": "code",
   "execution_count": null,
   "metadata": {},
   "outputs": [],
   "source": [
    "def inc_subset_data(subsetlist):\n",
    "    prev = None\n",
    "    for i in range(1, len(subsetlist) + 1):\n",
    "        subset_data = utils.get_data_for_subset(mutators, subset=subsetlist[:i], submissions=submissions)\n",
    "        subset_data = subset_data[['cov', 'mpl']]\n",
    "        subset_data['mpl'] = subset_data['mpl']\n",
    "        subset_data.columns = ['Mutation Coverage', '# Mutants per KLoC']\n",
    "        subset_data['Operator Subset'] = 'Subset {}'.format(i)\n",
    "        if prev is None:\n",
    "            prev = subset_data\n",
    "        else:\n",
    "            prev = pd.concat([prev, subset_data])\n",
    "    return prev"
   ]
  },
  {
   "cell_type": "code",
   "execution_count": null,
   "metadata": {},
   "outputs": [],
   "source": [
    "inc_num = 2\n",
    "s = subset[:inc_num]\n",
    "s1 = utils.get_data_for_subset(mutators, subset=s, submissions=submissions)\n",
    "s1['runningtime'] = utils.get_running_time(resultfile=utils.pit_results_path + '/inc-{}-results.ndjson'.format(inc_num))\n",
    "s1['mpl'] = s1['mpl'] * 1000\n",
    "s1 = s1.merge(right=joined, right_index=True, left_index=True)\n",
    "print('Subset = ', s)\n",
    "# '{:.2%}'.format((s1['runningtime'] / (joined['deletion_runningtime'])).mean())\n",
    "\n",
    "sns.lmplot(x='cov', y='full_cov', data=s1)"
   ]
  },
  {
   "cell_type": "code",
   "execution_count": null,
   "metadata": {},
   "outputs": [],
   "source": [
    "deletion = joined.filter(regex='^deletion_[mpl|cov]')\n",
    "deletion.columns = ['Mutation Coverage', '# Mutants per KLoC']\n",
    "deletion['Operator Subset'] = 'Deletion'\n",
    "\n",
    "sufficient = joined.filter(regex='^sufficient_[mpl|cov]')\n",
    "sufficient.columns = ['Mutation Coverage', '# Mutants per KLoC']\n",
    "sufficient['Operator Subset'] = 'Sufficient'\n",
    "\n",
    "full = joined.filter(regex='^full_[mpl|cov]')\n",
    "full.columns = ['Mutation Coverage', '# Mutants per KLoC']\n",
    "full['Operator Subset'] = 'Full'\n",
    "\n",
    "inc_subsets = inc_subset_data(subset)\n",
    "\n",
    "s = pd.concat([deletion, inc_subsets])\n",
    "s['# Mutants per KLoC'] = s['# Mutants per KLoC'] * 1000\n",
    "ax = sns.scatterplot(x='# Mutants per KLoC', y='Mutation Coverage', hue='Operator Subset', data=s, style='Operator Subset')\n",
    "ax.legend(loc='upper left', bbox_to_anchor=(1.0, 1.0))\n",
    "sns.despine()"
   ]
  }
 ],
 "metadata": {
  "kernelspec": {
   "display_name": "Python 3",
   "language": "python",
   "name": "python3"
  },
  "language_info": {
   "codemirror_mode": {
    "name": "ipython",
    "version": 3
   },
   "file_extension": ".py",
   "mimetype": "text/x-python",
   "name": "python",
   "nbconvert_exporter": "python",
   "pygments_lexer": "ipython3",
   "version": "3.6.7"
  }
 },
 "nbformat": 4,
 "nbformat_minor": 2
}
