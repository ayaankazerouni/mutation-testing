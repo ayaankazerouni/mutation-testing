{
 "cells": [
  {
   "cell_type": "code",
   "execution_count": null,
   "metadata": {},
   "outputs": [],
   "source": [
    "import re\n",
    "import pandas as pd\n",
    "import statsmodels.formula.api as smf\n",
    "\n",
    "from importlib import reload\n",
    "import utils # in this directory"
   ]
  },
  {
   "cell_type": "code",
   "execution_count": null,
   "metadata": {},
   "outputs": [],
   "source": [
    "reload(utils) # in case changes were made to utils "
   ]
  },
  {
   "cell_type": "code",
   "execution_count": null,
   "metadata": {},
   "outputs": [],
   "source": [
    "pit_mutations = pd.read_csv(utils.pit_mutations_path)\n",
    "submissions = utils.getsubmissions(webcat_path=utils.webcat_path, users=pit_mutations.userName.unique(),\n",
    "                                   assignments=['Project 2'])\n",
    "mutators = utils.get_mutator_specific_data(pit_mutations=pit_mutations, submissions=submissions)\n",
    "coverage = utils.all_mutator_data(mutators, 'cov')\n",
    "survival = utils.all_mutator_data(mutators, 'surv')\n",
    "agg_mutators = mutators.groupby('mutator').agg('mean')\n",
    "del pit_mutations"
   ]
  },
  {
   "cell_type": "code",
   "execution_count": null,
   "metadata": {},
   "outputs": [],
   "source": [
    "def forward_selection(data, response):\n",
    "    \"\"\"Linear model designed by forward selection.\n",
    "    Credit: https://planspace.org/20150423-forward_selection_with_statsmodels/\n",
    "    \n",
    "    Args:\n",
    "        data (pd.DataFrame): All possible predictors and response\n",
    "        response (str): Name of response column in `data`\n",
    "        candidates (list): Candidate features\n",
    "\n",
    "    Returns:\n",
    "        model: an \"optimal\" fitted statsmodels linear model\n",
    "               with an intercept\n",
    "               selected by forward selection\n",
    "               evaluated by adjusted R-squared\n",
    "    \"\"\"\n",
    "    # add features in order of the specified sort_criteria\n",
    "    candidates = list(data.columns)\n",
    "    candidates.remove(response)\n",
    "    remaining = candidates.copy() # keep candidates intact to measure savings\n",
    "    selected = []\n",
    "    current_score, best_new_score = 0, 0\n",
    "    current_eff = 0\n",
    "    while remaining and current_score == best_new_score:\n",
    "        scores_with_candidates = []\n",
    "        eff_with_candidates = {} \n",
    "        for candidate in remaining:\n",
    "            features = selected + [candidate]\n",
    "            formula = '{} ~ {} + 1'.format(response, ' + '.join(features))\n",
    "            \n",
    "            # calculate r-squared score\n",
    "            score = smf.ols(formula, data).fit().aic\n",
    "            scores_with_candidates.append((score, candidate))\n",
    "            \n",
    "            # calculate incremental efficiency\n",
    "            eff = utils.get_data_for_subset(mutators, subset=features, submissions=submissions)['eff'].mean()\n",
    "            eff_with_candidates[candidate] = eff\n",
    "            \n",
    "        scores_with_candidates.sort()\n",
    "        best_new_score, best_candidate = scores_with_candidates[0]\n",
    "        if current_score > best_new_score:\n",
    "            remaining.remove(best_candidate)\n",
    "            selected.append(best_candidate)\n",
    "            current_score = best_new_score\n",
    "\n",
    "    formula = '{} ~ {} + 1'.format(response, ' + '.join(selected))\n",
    "    print('Selected {} / {} mutators'.format(len(selected), len(candidates)))\n",
    "    \n",
    "    selected_num = utils.get_data_for_subset(mutators, submissions=submissions, subset=selected)['num'].sum()\n",
    "    original_num = utils.get_data_for_subset(mutators, submissions=submissions, subset=candidates)['num'].sum()\n",
    "    print('{:.2%} of initial mutants'.format(selected_num / original_num))\n",
    "    \n",
    "    model = smf.ols(formula, data).fit()\n",
    "    return model, selected"
   ]
  },
  {
   "cell_type": "code",
   "execution_count": null,
   "metadata": {},
   "outputs": [],
   "source": [
    "depvar = 'cov'\n",
    "response = utils.get_data_for_subset(df=mutators, submissions=submissions, subset=utils.pit_sufficient)[depvar]\n",
    "d = coverage[utils.pit_deletion] \\\n",
    "            .merge(response, right_index=True, left_index=True) \\\n",
    "            .fillna(0)\n",
    "model, subset = forward_selection(d, depvar)\n",
    "model.summary()"
   ]
  }
 ],
 "metadata": {
  "kernelspec": {
   "display_name": "Python 3",
   "language": "python",
   "name": "python3"
  },
  "language_info": {
   "codemirror_mode": {
    "name": "ipython",
    "version": 3
   },
   "file_extension": ".py",
   "mimetype": "text/x-python",
   "name": "python",
   "nbconvert_exporter": "python",
   "pygments_lexer": "ipython3",
   "version": "3.6.7"
  }
 },
 "nbformat": 4,
 "nbformat_minor": 2
}
